{
 "cells": [
  {
   "cell_type": "markdown",
   "id": "4f6d2a95-3041-44c1-b0ce-0058db1e02b5",
   "metadata": {},
   "source": [
    "Assignment2: Answers"
   ]
  },
  {
   "cell_type": "code",
   "execution_count": 2,
   "id": "019c4b5a-afed-46f4-910a-1cfd9454fccc",
   "metadata": {},
   "outputs": [
    {
     "name": "stdin",
     "output_type": "stream",
     "text": [
      "Enter the percentage:  85\n"
     ]
    },
    {
     "name": "stdout",
     "output_type": "stream",
     "text": [
      "Grade: B\n"
     ]
    }
   ],
   "source": [
    "#Ans.1.write a program to accept percentage from the user and the grade according to the given criteria\n",
    "\n",
    "def calculate_grade(percentage):\n",
    "    if percentage > 90:\n",
    "        return 'A'\n",
    "    elif percentage > 80:\n",
    "        return 'B'\n",
    "    elif percentage >= 60:\n",
    "        return 'C'\n",
    "    else:\n",
    "        return 'D'\n",
    "\n",
    "def main():\n",
    "    try:\n",
    "        percentage = float(input(\"Enter the percentage: \"))\n",
    "        if percentage < 0 or percentage > 100:\n",
    "            print(\"Percentage should be between 0 and 100.\")\n",
    "        else:\n",
    "            grade = calculate_grade(percentage)\n",
    "            print(\"Grade:\", grade)\n",
    "    except ValueError:\n",
    "        print(\"Invalid input. Please enter a valid percentage.\")\n",
    "\n",
    "if __name__ == \"__main__\":\n",
    "    main()\n",
    " \n"
   ]
  },
  {
   "cell_type": "code",
   "execution_count": 3,
   "id": "409a862d-2468-4a8c-96e7-e5378d150cc2",
   "metadata": {},
   "outputs": [
    {
     "name": "stdin",
     "output_type": "stream",
     "text": [
      "Enter the cost price of the bike (in rupees):  40000\n"
     ]
    },
    {
     "name": "stdout",
     "output_type": "stream",
     "text": [
      "Road tax to be paid: 2000.00 rupees\n"
     ]
    }
   ],
   "source": [
    "#Ans.2. write a program to accept the cost price of a bike and display the road tax to be paid according to the following criteria:\n",
    "\n",
    "\n",
    "def calculate_road_tax(cost_price):\n",
    "    if cost_price > 100000:\n",
    "        return cost_price * 0.15\n",
    "    elif cost_price > 50000:\n",
    "        return cost_price * 0.10\n",
    "    else:\n",
    "        return cost_price * 0.05\n",
    "\n",
    "def main():\n",
    "    try:\n",
    "        cost_price = float(input(\"Enter the cost price of the bike (in rupees): \"))\n",
    "        if cost_price < 0:\n",
    "            print(\"Cost price cannot be negative.\")\n",
    "        else:\n",
    "            road_tax = calculate_road_tax(cost_price)\n",
    "            print(\"Road tax to be paid: {:.2f} rupees\".format(road_tax))\n",
    "    except ValueError:\n",
    "        print(\"Invalid input. Please enter a valid cost price.\")\n",
    "\n",
    "if __name__ == \"__main__\":\n",
    "    main()\n"
   ]
  },
  {
   "cell_type": "code",
   "execution_count": 4,
   "id": "737c9fef-5993-4088-9aef-5bf950c9e148",
   "metadata": {},
   "outputs": [
    {
     "name": "stdin",
     "output_type": "stream",
     "text": [
      "Enter a city name:  Jaipur\n"
     ]
    },
    {
     "name": "stdout",
     "output_type": "stream",
     "text": [
      "The monument in Jaipur is Jal Mahal.\n"
     ]
    }
   ],
   "source": [
    "#Ans.3.Here's a Python program that accepts a city from the user and displays the corresponding monument:\n",
    "\n",
    "def display_monument(city):\n",
    "    monuments = {\n",
    "        \"Delhi\": \"Red Fort\",\n",
    "        \"Agra\": \"Taj Mahal\",\n",
    "        \"Jaipur\": \"Jal Mahal\"\n",
    "    }\n",
    "    if city in monuments:\n",
    "        print(f\"The monument in {city} is {monuments[city]}.\")\n",
    "    else:\n",
    "        print(\"Monument information not available for this city.\")\n",
    "\n",
    "def main():\n",
    "    city = input(\"Enter a city name: \").strip().title()  # Ensuring proper capitalization\n",
    "    display_monument(city)\n",
    "\n",
    "if __name__ == \"__main__\":\n",
    "    main()\n"
   ]
  },
  {
   "cell_type": "code",
   "execution_count": 7,
   "id": "fbe10337-928e-4812-8d2e-dd5d350dc5af",
   "metadata": {},
   "outputs": [
    {
     "name": "stdin",
     "output_type": "stream",
     "text": [
      "Enter a number:  12\n"
     ]
    },
    {
     "name": "stdout",
     "output_type": "stream",
     "text": [
      "The number can be divided by 3 1 times before it is less than or equal to 10.\n"
     ]
    }
   ],
   "source": [
    "#Ans.4. Check how many times a given number can be divided by 3 before it is less than or equal to 10.\n",
    "\n",
    "#Using Loop here:\n",
    "\n",
    "def count_divisions(num):\n",
    "    count = 0\n",
    "    while num > 10:\n",
    "        num /= 3\n",
    "        count += 1\n",
    "    return count\n",
    "\n",
    "def main():\n",
    "    try:\n",
    "        num = float(input(\"Enter a number: \"))\n",
    "        if num <= 10:\n",
    "            print(\"The number should be greater than 10 for the calculation.\")\n",
    "        else:\n",
    "            divisions = count_divisions(num)\n",
    "            print(\"The number can be divided by 3\", divisions, \"times before it is less than or equal to 10.\")\n",
    "    except ValueError:\n",
    "        print(\"Invalid input. Please enter a valid number.\")\n",
    "\n",
    "if __name__ == \"__main__\":\n",
    "    main()\n"
   ]
  },
  {
   "cell_type": "raw",
   "id": "a3420db0-0398-499e-a177-8c58fe99f616",
   "metadata": {},
   "source": [
    "Ans.5. The while loop is a fundamental control flow mechanism in Python that allows you to execute a block of code repeatedly based on a condition. It's suitable for scenarios where the number of iterations is uncertain or dynamic. However, care should be taken to ensure that the loop will eventually terminate to prevent infinite loops, which can lead to program crashes or excessive resource consumption.\n",
    "\n",
    "Why Use while Loop:\n",
    "\n",
    "- Unknown Number of Iterations: When the number of iterations is not known beforehand and depends on some condition.\n",
    "\n",
    "- Dynamic Condition: When the loop needs to continue until a specific condition is met, which may change during the course of execution.\n",
    "\n",
    "- Looping Until User Interaction: When you want a program to keep executing until the user performs a certain action, such as pressing a specific key or entering a specific input.\n",
    "\n",
    "- Processing Elements in a Collection: When iterating through elements in a collection or sequence until a specific condition is met.\n",
    "\n",
    "- Implementing Continuous Processes: When implementing processes that should run indefinitely until a certain condition is met or an external interrupt occurs.\n"
   ]
  },
  {
   "cell_type": "code",
   "execution_count": 11,
   "id": "deea914a-f990-4189-b41a-5978e8e47fee",
   "metadata": {},
   "outputs": [
    {
     "name": "stdout",
     "output_type": "stream",
     "text": [
      "1\n",
      "2\n",
      "3\n",
      "4\n",
      "5\n",
      "6\n",
      "7\n",
      "8\n",
      "9\n",
      "10\n"
     ]
    },
    {
     "data": {
      "text/plain": [
       "'\\nIn this example:\\n\\n- We initialize the variable num to 1.\\n- The while loop continues as long as the condition num <= 10 is True.\\n- Inside the loop, we print the current value of num and then increment num by 1 in each iteration using the num += 1 statement.\\n- Once num becomes greater than 10, the condition num <= 10 becomes False, and the loop terminates.\\n'"
      ]
     },
     "execution_count": 11,
     "metadata": {},
     "output_type": "execute_result"
    }
   ],
   "source": [
    "#Example: Let's consider an example where we want to print numbers from 1 to 10 using a while loop:\n",
    "\n",
    "# Printing numbers from 1 to 10 using a while loop\n",
    "\n",
    "\n",
    "num = 1\n",
    "while num <= 10:\n",
    "    print(num)\n",
    "    num += 1\n",
    "    \n",
    "    \n"
   ]
  },
  {
   "cell_type": "code",
   "execution_count": 12,
   "id": "77cd1c8b-2924-41e0-bc6a-b0d8fa76e697",
   "metadata": {},
   "outputs": [
    {
     "name": "stdout",
     "output_type": "stream",
     "text": [
      "1 \n",
      "1 2 \n",
      "1 2 3 \n",
      "1 2 3 4 \n",
      "1 2 3 4 5 \n"
     ]
    }
   ],
   "source": [
    "#Ans.6. These programs use nested while loops to print each pattern. The outer loop controls the number of rows, while the inner loop controls the number of elements to be printed in each row, based on the pattern.\n",
    "\n",
    "# Pattern 1\n",
    "rows = 5\n",
    "i = 1\n",
    "while i <= rows:\n",
    "    j = 1\n",
    "    while j <= i:\n",
    "        print(j, end=\" \")\n",
    "        j += 1\n",
    "    print()\n",
    "    i += 1\n",
    "\n"
   ]
  },
  {
   "cell_type": "code",
   "execution_count": 13,
   "id": "7c1d3b43-767c-4c75-a386-4daea6769bf6",
   "metadata": {},
   "outputs": [
    {
     "name": "stdout",
     "output_type": "stream",
     "text": [
      "* * * * * \n",
      "* * * * \n",
      "* * * \n",
      "* * \n",
      "* \n"
     ]
    }
   ],
   "source": [
    "# Pattern 2\n",
    "rows = 5\n",
    "i = rows\n",
    "while i >= 1:\n",
    "    j = i\n",
    "    while j >= 1:\n",
    "        print(\"*\", end=\" \")\n",
    "        j -= 1\n",
    "    print()\n",
    "    i -= 1\n"
   ]
  },
  {
   "cell_type": "code",
   "execution_count": 15,
   "id": "b1aa4010-173e-4e56-98f3-ba0a769a7352",
   "metadata": {},
   "outputs": [
    {
     "name": "stdout",
     "output_type": "stream",
     "text": [
      "1 \n",
      "2 2 \n",
      "3 3 3 \n",
      "4 4 4 4 \n",
      "5 5 5 5 5 \n"
     ]
    }
   ],
   "source": [
    "# Pattern 3\n",
    "rows = 5\n",
    "i = 1\n",
    "while i <= rows:\n",
    "    j = 1\n",
    "    while j <= i:\n",
    "        print(i, end=\" \")\n",
    "        j += 1\n",
    "    print()\n",
    "    i += 1\n"
   ]
  },
  {
   "cell_type": "code",
   "execution_count": 16,
   "id": "01c3e37f-d08f-4bbb-8c33-5a6ebc75c2bf",
   "metadata": {},
   "outputs": [
    {
     "name": "stdout",
     "output_type": "stream",
     "text": [
      "10\n",
      "9\n",
      "8\n",
      "7\n",
      "6\n",
      "5\n",
      "4\n",
      "3\n",
      "2\n",
      "1\n"
     ]
    }
   ],
   "source": [
    "#Ans.7.To reverse a while loop and display numbers from 10 to 1, you can start the loop with the initial value of 10 and decrement the value in each iteration until it reaches 1.\n",
    "\n",
    "num = 10\n",
    "while num >= 1:\n",
    "    print(num)\n",
    "    num -= 1\n"
   ]
  },
  {
   "cell_type": "raw",
   "id": "f831dd2d-5b7d-4c36-a90c-0535fb52d5cb",
   "metadata": {},
   "source": [
    "Ans.8. This question has to be same question no.7.\n",
    "So, it question answer to be same question no.7."
   ]
  }
 ],
 "metadata": {
  "kernelspec": {
   "display_name": "Python 3 (ipykernel)",
   "language": "python",
   "name": "python3"
  },
  "language_info": {
   "codemirror_mode": {
    "name": "ipython",
    "version": 3
   },
   "file_extension": ".py",
   "mimetype": "text/x-python",
   "name": "python",
   "nbconvert_exporter": "python",
   "pygments_lexer": "ipython3",
   "version": "3.10.8"
  }
 },
 "nbformat": 4,
 "nbformat_minor": 5
}
